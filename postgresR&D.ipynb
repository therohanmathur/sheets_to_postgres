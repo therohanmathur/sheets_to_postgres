{
 "cells": [
  {
   "cell_type": "code",
   "execution_count": 2,
   "metadata": {},
   "outputs": [
    {
     "name": "stdout",
     "output_type": "stream",
     "text": [
      "Collecting pandas\n",
      "  Downloading pandas-2.0.2-cp311-cp311-macosx_11_0_arm64.whl (10.7 MB)\n",
      "\u001b[2K     \u001b[90m━━━━━━━━━━━━━━━━━━━━━━━━━━━━━━━━━━━━━━━━\u001b[0m \u001b[32m10.7/10.7 MB\u001b[0m \u001b[31m2.3 MB/s\u001b[0m eta \u001b[36m0:00:00\u001b[0m00:01\u001b[0m00:01\u001b[0m\n",
      "\u001b[?25hRequirement already satisfied: python-dateutil>=2.8.2 in /Users/rohanmathur/Library/Python/3.11/lib/python/site-packages (from pandas) (2.8.2)\n",
      "Collecting pytz>=2020.1\n",
      "  Downloading pytz-2023.3-py2.py3-none-any.whl (502 kB)\n",
      "\u001b[2K     \u001b[90m━━━━━━━━━━━━━━━━━━━━━━━━━━━━━━━━━━━━━━━\u001b[0m \u001b[32m502.3/502.3 kB\u001b[0m \u001b[31m2.0 MB/s\u001b[0m eta \u001b[36m0:00:00\u001b[0m00:01\u001b[0m00:01\u001b[0m\n",
      "\u001b[?25hCollecting tzdata>=2022.1\n",
      "  Downloading tzdata-2023.3-py2.py3-none-any.whl (341 kB)\n",
      "\u001b[2K     \u001b[90m━━━━━━━━━━━━━━━━━━━━━━━━━━━━━━━━━━━━━━━\u001b[0m \u001b[32m341.8/341.8 kB\u001b[0m \u001b[31m2.1 MB/s\u001b[0m eta \u001b[36m0:00:00\u001b[0ma \u001b[36m0:00:01\u001b[0m\n",
      "\u001b[?25hCollecting numpy>=1.21.0\n",
      "  Downloading numpy-1.25.0-cp311-cp311-macosx_11_0_arm64.whl (14.0 MB)\n",
      "\u001b[2K     \u001b[90m━━━━━━━━━━━━━━━━━━━━━━━━━━━━━━━━━━━━━━━━\u001b[0m \u001b[32m14.0/14.0 MB\u001b[0m \u001b[31m2.0 MB/s\u001b[0m eta \u001b[36m0:00:00\u001b[0m00:01\u001b[0m00:01\u001b[0m\n",
      "\u001b[?25hRequirement already satisfied: six>=1.5 in /opt/homebrew/lib/python3.11/site-packages (from python-dateutil>=2.8.2->pandas) (1.16.0)\n",
      "Installing collected packages: pytz, tzdata, numpy, pandas\n",
      "Successfully installed numpy-1.25.0 pandas-2.0.2 pytz-2023.3 tzdata-2023.3\n",
      "\n",
      "\u001b[1m[\u001b[0m\u001b[34;49mnotice\u001b[0m\u001b[1;39;49m]\u001b[0m\u001b[39;49m A new release of pip is available: \u001b[0m\u001b[31;49m23.0.1\u001b[0m\u001b[39;49m -> \u001b[0m\u001b[32;49m23.1.2\u001b[0m\n",
      "\u001b[1m[\u001b[0m\u001b[34;49mnotice\u001b[0m\u001b[1;39;49m]\u001b[0m\u001b[39;49m To update, run: \u001b[0m\u001b[32;49mpython3.11 -m pip install --upgrade pip\u001b[0m\n",
      "Note: you may need to restart the kernel to use updated packages.\n"
     ]
    }
   ],
   "source": [
    "pip install pandas"
   ]
  },
  {
   "cell_type": "code",
   "execution_count": 3,
   "metadata": {},
   "outputs": [],
   "source": [
    "import pandas as pd"
   ]
  },
  {
   "cell_type": "code",
   "execution_count": null,
   "metadata": {},
   "outputs": [],
   "source": [
    "file = pd.read_csv('<Google_Spreadsheet_Public_Link>')"
   ]
  },
  {
   "cell_type": "code",
   "execution_count": 5,
   "metadata": {},
   "outputs": [],
   "source": [
    "file.set_index(file.columns.to_list(), inplace=True)"
   ]
  },
  {
   "cell_type": "code",
   "execution_count": 6,
   "metadata": {},
   "outputs": [
    {
     "data": {
      "text/html": [
       "<div>\n",
       "<style scoped>\n",
       "    .dataframe tbody tr th:only-of-type {\n",
       "        vertical-align: middle;\n",
       "    }\n",
       "\n",
       "    .dataframe tbody tr th {\n",
       "        vertical-align: top;\n",
       "    }\n",
       "\n",
       "    .dataframe thead th {\n",
       "        text-align: right;\n",
       "    }\n",
       "</style>\n",
       "<table border=\"1\" class=\"dataframe\">\n",
       "  <thead>\n",
       "    <tr style=\"text-align: right;\">\n",
       "      <th></th>\n",
       "      <th></th>\n",
       "      <th></th>\n",
       "      <th></th>\n",
       "      <th></th>\n",
       "      <th></th>\n",
       "      <th></th>\n",
       "      <th></th>\n",
       "      <th></th>\n",
       "      <th></th>\n",
       "      <th></th>\n",
       "    </tr>\n",
       "    <tr>\n",
       "      <th>id</th>\n",
       "      <th>first_name</th>\n",
       "      <th>last_name</th>\n",
       "      <th>work_email</th>\n",
       "      <th>job_title</th>\n",
       "      <th>job_title_role</th>\n",
       "      <th>job_title_sub_role</th>\n",
       "      <th>job_company_id</th>\n",
       "      <th>job_company_name</th>\n",
       "      <th>location_country</th>\n",
       "      <th>version_status</th>\n",
       "    </tr>\n",
       "  </thead>\n",
       "  <tbody>\n",
       "    <tr>\n",
       "      <th>2eUxU-EvelzVqZsHa8yBKA_0000</th>\n",
       "      <th>bình</th>\n",
       "      <th>thanh</th>\n",
       "      <th>NaN</th>\n",
       "      <th>frontend engineering</th>\n",
       "      <th>engineering</th>\n",
       "      <th>NaN</th>\n",
       "      <th>cho-tot-co-ltd-chotot-vn-</th>\n",
       "      <th>chợ tốt</th>\n",
       "      <th>vietnam</th>\n",
       "      <th>{'status': 'unchanged', 'contains': [], 'previous_version': '15.0', 'current_version': '16.0'}</th>\n",
       "    </tr>\n",
       "    <tr>\n",
       "      <th>YWMB6GiYxHRVrPYHzPQdBg_0000</th>\n",
       "      <th>ali</th>\n",
       "      <th>shirvani</th>\n",
       "      <th>ali.shirvani@irisaco.com</th>\n",
       "      <th>graphic designer</th>\n",
       "      <th>design</th>\n",
       "      <th>graphic_design</th>\n",
       "      <th>irisa</th>\n",
       "      <th>irisa</th>\n",
       "      <th>iran</th>\n",
       "      <th>{'status': 'updated', 'contains': [], 'previous_version': '15.0', 'current_version': '16.0'}</th>\n",
       "    </tr>\n",
       "    <tr>\n",
       "      <th>kDGKGuTy9LSkuPi33M011g_0000</th>\n",
       "      <th>motakabbir</th>\n",
       "      <th>rahat</th>\n",
       "      <th>NaN</th>\n",
       "      <th>business development associate</th>\n",
       "      <th>sales</th>\n",
       "      <th>business_development</th>\n",
       "      <th>pathao</th>\n",
       "      <th>pathao</th>\n",
       "      <th>bangladesh</th>\n",
       "      <th>{'status': 'updated', 'contains': [], 'previous_version': '15.0', 'current_version': '16.0'}</th>\n",
       "    </tr>\n",
       "    <tr>\n",
       "      <th>sYBdcRwMLt3qBE80jmBVeQ_0000</th>\n",
       "      <th>stephanie</th>\n",
       "      <th>carstairs</th>\n",
       "      <th>NaN</th>\n",
       "      <th>teacher chez blue mountain quality resources, inc</th>\n",
       "      <th>education</th>\n",
       "      <th>teacher</th>\n",
       "      <th>blue-mountain-quality-resources-inc-</th>\n",
       "      <th>blue mountain quality resources, inc.</th>\n",
       "      <th>canada</th>\n",
       "      <th>{'status': 'updated', 'contains': [], 'previous_version': '15.0', 'current_version': '16.0'}</th>\n",
       "    </tr>\n",
       "    <tr>\n",
       "      <th>zJl7PtZyD18v9aMa65Ogag_0000</th>\n",
       "      <th>jay</th>\n",
       "      <th>hinds</th>\n",
       "      <th>jhinds@column5.com</th>\n",
       "      <th>senior accountant</th>\n",
       "      <th>finance</th>\n",
       "      <th>accounting</th>\n",
       "      <th>column5-consulting</th>\n",
       "      <th>column5 consulting</th>\n",
       "      <th>united states</th>\n",
       "      <th>{'status': 'updated', 'contains': [], 'previous_version': '15.0', 'current_version': '16.0'}</th>\n",
       "    </tr>\n",
       "  </tbody>\n",
       "</table>\n",
       "</div>"
      ],
      "text/plain": [
       "Empty DataFrame\n",
       "Columns: []\n",
       "Index: [(2eUxU-EvelzVqZsHa8yBKA_0000, bình, thanh, nan, frontend engineering, engineering, nan, cho-tot-co-ltd-chotot-vn-, chợ tốt, vietnam, {'status': 'unchanged', 'contains': [], 'previous_version': '15.0', 'current_version': '16.0'}), (YWMB6GiYxHRVrPYHzPQdBg_0000, ali, shirvani, ali.shirvani@irisaco.com, graphic designer, design, graphic_design, irisa, irisa, iran, {'status': 'updated', 'contains': [], 'previous_version': '15.0', 'current_version': '16.0'}), (kDGKGuTy9LSkuPi33M011g_0000, motakabbir, rahat, nan, business development associate, sales, business_development, pathao, pathao, bangladesh, {'status': 'updated', 'contains': [], 'previous_version': '15.0', 'current_version': '16.0'}), (sYBdcRwMLt3qBE80jmBVeQ_0000, stephanie, carstairs, nan, teacher chez blue mountain quality resources, inc, education, teacher, blue-mountain-quality-resources-inc-, blue mountain quality resources, inc., canada, {'status': 'updated', 'contains': [], 'previous_version': '15.0', 'current_version': '16.0'}), (zJl7PtZyD18v9aMa65Ogag_0000, jay, hinds, jhinds@column5.com, senior accountant, finance, accounting, column5-consulting, column5 consulting, united states, {'status': 'updated', 'contains': [], 'previous_version': '15.0', 'current_version': '16.0'})]"
      ]
     },
     "execution_count": 6,
     "metadata": {},
     "output_type": "execute_result"
    }
   ],
   "source": [
    "file.sample(5)"
   ]
  },
  {
   "cell_type": "code",
   "execution_count": 8,
   "metadata": {},
   "outputs": [
    {
     "name": "stdout",
     "output_type": "stream",
     "text": [
      "Collecting sqlalchemy\n",
      "  Downloading SQLAlchemy-2.0.16-cp311-cp311-macosx_11_0_arm64.whl (2.0 MB)\n",
      "\u001b[2K     \u001b[90m━━━━━━━━━━━━━━━━━━━━━━━━━━━━━━━━━━━━━━━━\u001b[0m \u001b[32m2.0/2.0 MB\u001b[0m \u001b[31m4.2 MB/s\u001b[0m eta \u001b[36m0:00:00\u001b[0m00:01\u001b[0m00:01\u001b[0m\n",
      "\u001b[?25hCollecting typing-extensions>=4.2.0\n",
      "  Downloading typing_extensions-4.6.3-py3-none-any.whl (31 kB)\n",
      "Installing collected packages: typing-extensions, sqlalchemy\n",
      "Successfully installed sqlalchemy-2.0.16 typing-extensions-4.6.3\n",
      "\n",
      "\u001b[1m[\u001b[0m\u001b[34;49mnotice\u001b[0m\u001b[1;39;49m]\u001b[0m\u001b[39;49m A new release of pip is available: \u001b[0m\u001b[31;49m23.0.1\u001b[0m\u001b[39;49m -> \u001b[0m\u001b[32;49m23.1.2\u001b[0m\n",
      "\u001b[1m[\u001b[0m\u001b[34;49mnotice\u001b[0m\u001b[1;39;49m]\u001b[0m\u001b[39;49m To update, run: \u001b[0m\u001b[32;49mpython3.11 -m pip install --upgrade pip\u001b[0m\n",
      "Note: you may need to restart the kernel to use updated packages.\n"
     ]
    }
   ],
   "source": [
    "pip install sqlalchemy"
   ]
  },
  {
   "cell_type": "code",
   "execution_count": 9,
   "metadata": {},
   "outputs": [],
   "source": [
    "from sqlalchemy import create_engine"
   ]
  },
  {
   "cell_type": "code",
   "execution_count": null,
   "metadata": {},
   "outputs": [],
   "source": [
    "# Change according to your custom cloud DB credentials at specified places.\n",
    "connection_stream = 'postgresql://<username>:<password>@<host>:<port>/<database>'"
   ]
  },
  {
   "cell_type": "code",
   "execution_count": 11,
   "metadata": {},
   "outputs": [],
   "source": [
    "db = create_engine(connection_stream)"
   ]
  },
  {
   "cell_type": "code",
   "execution_count": 12,
   "metadata": {},
   "outputs": [],
   "source": [
    "conn = db.connect()"
   ]
  },
  {
   "cell_type": "code",
   "execution_count": null,
   "metadata": {},
   "outputs": [],
   "source": [
    "# Change according to your custom table name at specified place.\n",
    "file.to_sql('<table_name>', connection_stream, if_exists='append' )"
   ]
  }
 ],
 "metadata": {
  "kernelspec": {
   "display_name": "Python 3",
   "language": "python",
   "name": "python3"
  },
  "language_info": {
   "codemirror_mode": {
    "name": "ipython",
    "version": 3
   },
   "file_extension": ".py",
   "mimetype": "text/x-python",
   "name": "python",
   "nbconvert_exporter": "python",
   "pygments_lexer": "ipython3",
   "version": "3.11.3"
  },
  "orig_nbformat": 4
 },
 "nbformat": 4,
 "nbformat_minor": 2
}
